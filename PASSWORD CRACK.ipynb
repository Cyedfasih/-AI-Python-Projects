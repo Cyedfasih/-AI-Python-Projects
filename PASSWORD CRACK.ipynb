{
 "cells": [
  {
   "cell_type": "code",
   "execution_count": null,
   "metadata": {},
   "outputs": [],
   "source": [
    "from random import *\n",
    "guess=\"\"\n",
    "password=input(\"password\")\n",
    "letters = [\"a\",\"b\",\"c\",\"d\",\"e\",\"f\",\"g\",\"h\",\"i\",\"j\",\"k\",\"l\",\"m\",\"n\",\"o\",\"p\",\"q\",\"r\",\"s\",\"t\",\"u\",\"v\",\"w\",\"x\",\"y\",\"z\"]\n",
    "#different combination\n",
    "while(guess !=password): #password match hga tw thek wrna wo br br check krta rhyga\n",
    "    guess=\"\"\n",
    "    for letter in password:\n",
    "        guessletter=letters[randint(0,25)]\n",
    "        guess=str(guessletter) + str(guess)\n",
    "        print(guess)\n",
    "        print(\"password cracked!!\")\n",
    "        input(\"\")\n",
    "        \n",
    "        "
   ]
  },
  {
   "cell_type": "code",
   "execution_count": null,
   "metadata": {},
   "outputs": [],
   "source": []
  },
  {
   "cell_type": "code",
   "execution_count": null,
   "metadata": {},
   "outputs": [],
   "source": []
  }
 ],
 "metadata": {
  "kernelspec": {
   "display_name": "Python 3",
   "language": "python",
   "name": "python3"
  }
 },
 "nbformat": 4,
 "nbformat_minor": 2
}
