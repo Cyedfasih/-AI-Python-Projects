{
 "cells": [
  {
   "cell_type": "code",
   "execution_count": 1,
   "metadata": {},
   "outputs": [],
   "source": [
    "import youtube_dl\n"
   ]
  },
  {
   "cell_type": "code",
   "execution_count": 2,
   "metadata": {},
   "outputs": [],
   "source": [
    "from __future__ import unicode_literals\n"
   ]
  },
  {
   "cell_type": "code",
   "execution_count": 3,
   "metadata": {},
   "outputs": [],
   "source": [
    "from tkinter import *"
   ]
  },
  {
   "cell_type": "code",
   "execution_count": 9,
   "metadata": {},
   "outputs": [],
   "source": [
    "root=Tk()\n",
    "e=Entry(root,width=50,bg=\"blue\",fg=\"white\")\n",
    "e.pack()\n",
    "\n",
    "root.geometry(\"644x434\")\n",
    "#l=Label(root,text='Click Me')\n",
    "#b=Button(root,text='click me')\n",
    "#b=Button(root,text='click me',state='DISABLED') button click nae hoga\n",
    "#b=Button(root,text='click me',padx=100,pady=50) button ka size change krskty\n",
    "def myclick():\n",
    "    ydl_opts={}\n",
    "    with youtube_dl.YoutubeDL(ydl_opts) as ydl:\n",
    "        ydl.download([e.get()])\n",
    "    l=Label(root,text=e.get())\n",
    "    l.pack()\n",
    "   \n",
    "#b=Button(root,text='click me',padx=50,pady=50,command=myclick) #command wala scene zaruri ha agar button py kuch print krwana ha\n",
    "b=Button(root,text='click here to download',padx=50,pady=50,command=myclick,fg='blue',bg='red') # fg foreground bg background colour change colour codes(000000) bhi work krty\n",
    "b.pack()\n"
   ]
  },
  {
   "cell_type": "code",
   "execution_count": 10,
   "metadata": {},
   "outputs": [
    {
     "name": "stdout",
     "output_type": "stream",
     "text": [
      "[youtube] 2FlfhR3AWT4: Downloading webpage\n",
      "[youtube] 2FlfhR3AWT4: Downloading video info webpage\n",
      "[youtube] 2FlfhR3AWT4: Downloading js player vfle4a9aa\n",
      "[youtube] 2FlfhR3AWT4: Downloading js player vfle4a9aa\n",
      "[download] Destination: Dil Jaaniye (LYRICS) - Khandaani Shafakhana _ Sonakshi Sinha _Jubin Nautiyal,Payal Dev-2FlfhR3AWT4.mp4\n",
      "[download] 100% of 8.70MiB in 00:24                  \n"
     ]
    }
   ],
   "source": [
    "root.mainloop()"
   ]
  },
  {
   "cell_type": "code",
   "execution_count": null,
   "metadata": {},
   "outputs": [],
   "source": []
  },
  {
   "cell_type": "code",
   "execution_count": null,
   "metadata": {},
   "outputs": [],
   "source": []
  }
 ],
 "metadata": {
  "kernelspec": {
   "display_name": "Python 3",
   "language": "python",
   "name": "python3"
  },
  "language_info": {
   "codemirror_mode": {
    "name": "ipython",
    "version": 3
   },
   "file_extension": ".py",
   "mimetype": "text/x-python",
   "name": "python",
   "nbconvert_exporter": "python",
   "pygments_lexer": "ipython3",
   "version": "3.7.3"
  }
 },
 "nbformat": 4,
 "nbformat_minor": 2
}
